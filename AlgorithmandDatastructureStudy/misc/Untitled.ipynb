{
 "cells": [
  {
   "cell_type": "code",
   "execution_count": 1,
   "metadata": {},
   "outputs": [
    {
     "name": "stdout",
     "output_type": "stream",
     "text": [
      "123 4505494448\n"
     ]
    }
   ],
   "source": [
    "a = 123\n",
    "print(a,id(a))"
   ]
  },
  {
   "cell_type": "code",
   "execution_count": 3,
   "metadata": {},
   "outputs": [
    {
     "name": "stdout",
     "output_type": "stream",
     "text": [
      "[1, 2, 3] 4540808264\n",
      "[1, 2, 3, 100] 4540808264\n"
     ]
    }
   ],
   "source": [
    "v = [1,2,3]\n",
    "\n",
    "def test_function(v):\n",
    "    v.append(100)\n",
    "    \n",
    "print(v,id(v))\n",
    "test_function(v)\n",
    "print(v,id(v))"
   ]
  },
  {
   "cell_type": "code",
   "execution_count": 4,
   "metadata": {},
   "outputs": [
    {
     "data": {
      "text/plain": [
       "'xml.etree.ElementTree'"
      ]
     },
     "execution_count": 4,
     "metadata": {},
     "output_type": "execute_result"
    }
   ],
   "source": [
    "from lxml.etree import *\n",
    "from xml.etree.ElementTree import *\n",
    "\n",
    "ElementTree.__module__"
   ]
  },
  {
   "cell_type": "code",
   "execution_count": null,
   "metadata": {},
   "outputs": [],
   "source": []
  }
 ],
 "metadata": {
  "kernelspec": {
   "display_name": "Python 3.7.1 64-bit ('ml_python': conda)",
   "language": "python",
   "name": "python37164bitmlpythoncondab8c9e8778e924104ab55ba3b99f36947"
  },
  "language_info": {
   "codemirror_mode": {
    "name": "ipython",
    "version": 3
   },
   "file_extension": ".py",
   "mimetype": "text/x-python",
   "name": "python",
   "nbconvert_exporter": "python",
   "pygments_lexer": "ipython3",
   "version": "3.7.1"
  }
 },
 "nbformat": 4,
 "nbformat_minor": 2
}
